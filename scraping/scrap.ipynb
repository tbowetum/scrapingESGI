{
 "cells": [
  {
   "cell_type": "code",
   "execution_count": null,
   "id": "58af3d30",
   "metadata": {},
   "outputs": [],
   "source": [
    "Projet"
   ]
  },
  {
   "cell_type": "code",
   "execution_count": 9,
   "id": "4fb8e5a6",
   "metadata": {},
   "outputs": [],
   "source": [
    "import requests\n",
    "from bs4 import BeautifulSoup as bs\n",
    "import pandas as pd"
   ]
  },
  {
   "cell_type": "code",
   "execution_count": 44,
   "id": "7be386d7",
   "metadata": {},
   "outputs": [
    {
     "name": "stdout",
     "output_type": "stream",
     "text": [
      "90\n"
     ]
    }
   ],
   "source": [
    "headers= {\n",
    "    'User-Agent':'Mozilla/5.0 (Windows NT 10.0; Win64; x64) AppleWebKit/537.36 (KHTML, like Gecko) Chrome/74.0.3729.169 Safari/537.36'\n",
    "    \n",
    "}\n",
    "food_recipe = []\n",
    "\n",
    "links = []\n",
    "\n",
    "for  x in range(1,4):\n",
    "    page = requests.get(f'https://www.marmiton.org/recettes?type=platprincipal&page={x}')\n",
    "    soup = bs(page.text, \"lxml\")\n",
    "    \n",
    "    homePages = soup.find_all(\"div\",{\"class\":\"recipe-card\"})\n",
    "    for homePage in homePages:\n",
    "        href_tags = homePage.find(\"a\").get('href')\n",
    "    \n",
    "        links.append(href_tags)\n",
    "    \n",
    "print(len(links))\n",
    "    "
   ]
  },
  {
   "cell_type": "markdown",
   "id": "49a4c499",
   "metadata": {},
   "source": [
    "# Extract recipe informations"
   ]
  },
  {
   "cell_type": "code",
   "execution_count": 48,
   "id": "535503d0",
   "metadata": {
    "scrolled": false
   },
   "outputs": [],
   "source": [
    "data = []\n",
    "for link in links:\n",
    "#url = 'https://www.marmiton.org/recettes/recette_tacos-mexicains_34389.aspx'\n",
    "    res = requests.get(link, headers=headers)\n",
    "    soup = bs(res.content, 'lxml')\n",
    "\n",
    "    title = soup.find('h1', class_=\"main-title show-more\").text.strip()\n",
    "\n",
    "\n",
    "    items = soup.find_all('span', class_=\"ingredient-name show-icon\")\n",
    "    ingredient = []\n",
    "    for i in items:\n",
    "        ingredient.append(i.getText().strip())\n",
    "\n",
    "    steps = []  \n",
    "    Cooking_steps = soup.find_all('div', class_=\"recipe-step-list__container\")\n",
    "    for i in Cooking_steps:\n",
    "        steps.append(i.getText().strip())\n",
    "\n",
    "    recipe = {\n",
    "        'title':title,\n",
    "        'ingredient':ingredient,\n",
    "        'steps':steps\n",
    "    }\n",
    "    #print(recipe)\n"
   ]
  },
  {
   "cell_type": "code",
   "execution_count": 49,
   "id": "e6746e7e",
   "metadata": {},
   "outputs": [],
   "source": [
    "def clean_string(var):\n",
    "    var = str(var)\n",
    "    var =var.rstrip()\n",
    "    var = var.replace('\\n','')\n",
    "    var =var.replace(\"'\\'\", '')\n",
    "    return var\n",
    "\n",
    "recipe['steps'] = clean_string(steps)\n"
   ]
  },
  {
   "cell_type": "code",
   "execution_count": 50,
   "id": "58f8b9e2",
   "metadata": {},
   "outputs": [
    {
     "name": "stdout",
     "output_type": "stream",
     "text": [
      "{'title': 'Porc caramel', 'ingredient': ['eau', 'sucre', 'gingembre', 'cube de bouillon', 'filet mignon', 'eau', 'mélange 4 épices', 'sauce soja', 'oignon jaune'], 'steps': '[\\'Étape 1\\\\n\\\\n\\\\n\\\\n \\\\n\\\\n\\\\nDécouper le porc en bouchées.\\', \"Étape 2\\\\n\\\\n\\\\n\\\\n\\\\n\\\\n\\\\n\\\\n\\\\n\\\\n\\\\n\\\\n \\\\n\\\\n\\\\nFaire chauffer 50 cl d\\'eau. Ajouter les deux cubes de bouillon de poule, 1 cuillère à soupe de gingembre moulu, 1 cuillère à soupe de mélange quatre épices et 3 cuillères à soupe de sauce soja.\", \"Étape 3\\\\n\\\\n\\\\n\\\\n\\\\n\\\\n \\\\n\\\\n\\\\nDans une sauteuse, préparez votre caramel avec le sucre et l\\'eau.\", \\'Étape 4\\\\n\\\\n\\\\nUne fois le caramel prêt, ajouter le bouillon et tourner très vite pour faire dissoudre le caramel (qui va se durcir) dans le bouillon.\\', \"Étape 5\\\\n\\\\n\\\\n\\\\n \\\\n\\\\n\\\\nUne fois le caramel dissout, rajouter la viande et l\\'oignon coupé en gros morceaux et mettre à feu très vif. Laisser réduire jusqu\\'à ce que tout le liquide se soit évaporé (environ 25 min) et que la viande se mêle au mélange épais caramel-épices.\", \\'Étape 6\\\\n\\\\n\\\\nDéguster !\\']'}\n"
     ]
    }
   ],
   "source": [
    "print(recipe)"
   ]
  },
  {
   "cell_type": "code",
   "execution_count": 7,
   "id": "848d3b5d",
   "metadata": {},
   "outputs": [
    {
     "name": "stdout",
     "output_type": "stream",
     "text": [
      "{\n",
      "  \"title\": \"Tzatziki (Gr\\u00e8ce)\",\n",
      "  \"ingrediens\": [\n",
      "    \"sel\",\n",
      "    \"poivre\",\n",
      "    \"huile d'olive\",\n",
      "    \"ail\",\n",
      "    \"concombre\",\n",
      "    \"menthe\",\n",
      "    \"yaourt\"\n",
      "  ],\n",
      "  \"steps\": [\n",
      "    \"\\u00c9tape 1\\n\\n\\nR\\u00e2per le concombre et le faire d\\u00e9gorger 15 min.\",\n",
      "    \"\\u00c9tape 2\\n\\n\\nLe mettre dans un saladier, ajouter l'ail \\u00e9cras\\u00e9, la menthe et le coriandre finement hach\\u00e9s, mettre le yaourt, l'huile, le sel et le poivre, remuer et mettre au frais.\",\n",
      "    \"\\u00c9tape 3\\n\\n\\nLe servir tr\\u00e8s frais avec du pain grec en ap\\u00e9ritif, ou tel quel en entr\\u00e9e.\"\n",
      "  ]\n",
      "}\n"
     ]
    }
   ],
   "source": [
    "import json\n",
    "print(json.dumps(recipe, indent=2))"
   ]
  },
  {
   "cell_type": "code",
   "execution_count": null,
   "id": "d3ad4f9e",
   "metadata": {},
   "outputs": [],
   "source": [
    "from pymongo import MongoClient\n",
    "\n",
    "myclient = MongoClient(\"mongodb://localhost:27017\")\n",
    "db = myclient[\"projetScrap\"]\n",
    "collection = db['projetESGI']\n",
    "\n",
    "collection.insert_many(recipe)\n"
   ]
  },
  {
   "cell_type": "code",
   "execution_count": null,
   "id": "b682da9c",
   "metadata": {},
   "outputs": [],
   "source": []
  },
  {
   "cell_type": "code",
   "execution_count": null,
   "id": "7de561f1",
   "metadata": {},
   "outputs": [],
   "source": []
  },
  {
   "cell_type": "code",
   "execution_count": null,
   "id": "d6206dff",
   "metadata": {},
   "outputs": [],
   "source": []
  }
 ],
 "metadata": {
  "kernelspec": {
   "display_name": "Python 3",
   "language": "python",
   "name": "python3"
  },
  "language_info": {
   "codemirror_mode": {
    "name": "ipython",
    "version": 3
   },
   "file_extension": ".py",
   "mimetype": "text/x-python",
   "name": "python",
   "nbconvert_exporter": "python",
   "pygments_lexer": "ipython3",
   "version": "3.8.9"
  }
 },
 "nbformat": 4,
 "nbformat_minor": 5
}
