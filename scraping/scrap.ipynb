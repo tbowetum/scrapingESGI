{
 "cells": [
  {
   "cell_type": "markdown",
   "id": "1d20c267",
   "metadata": {},
   "source": [
    "Projet"
   ]
  },
  {
   "cell_type": "code",
   "execution_count": 1,
   "id": "4fb8e5a6",
   "metadata": {},
   "outputs": [],
   "source": [
    "import requests\n",
    "from bs4 import BeautifulSoup as bs\n",
    "import json"
   ]
  },
  {
   "cell_type": "code",
   "execution_count": 2,
   "id": "7be386d7",
   "metadata": {},
   "outputs": [],
   "source": [
    "headers= {\n",
    "    'User-Agent':'Mozilla/5.0 (Windows NT 10.0; Win64; x64) AppleWebKit/537.36 (KHTML, like Gecko) Chrome/74.0.3729.169 Safari/537.36'\n",
    "    \n",
    "}\n",
    "\n",
    "links = []\n",
    "\n",
    "for  x in range(1,4):\n",
    "    page = requests.get(f'https://www.marmiton.org/recettes?type=platprincipal&page={x}')\n",
    "    soup = bs(page.text, \"lxml\")\n",
    "    \n",
    "    homePages = soup.find_all(\"div\",{\"class\":\"recipe-card\"})\n",
    "    for homePage in homePages:\n",
    "        href_tags = homePage.find(\"a\").get('href')\n",
    "    \n",
    "        links.append(href_tags)\n",
    "    \n",
    "#print(len(links))\n",
    "    "
   ]
  },
  {
   "cell_type": "markdown",
   "id": "49a4c499",
   "metadata": {},
   "source": [
    "# Extract recipe informations"
   ]
  },
  {
   "cell_type": "code",
   "execution_count": 3,
   "id": "535503d0",
   "metadata": {
    "scrolled": false
   },
   "outputs": [],
   "source": [
    "recipes = []\n",
    "for link in links:\n",
    "#url = 'https://www.marmiton.org/recettes/recette_tacos-mexicains_34389.aspx'\n",
    "    res = requests.get(link, headers=headers)\n",
    "    soup = bs(res.content, 'lxml')\n",
    "\n",
    "    title = soup.find('h1', class_=\"main-title show-more\").text.strip()\n",
    "\n",
    "\n",
    "    items = soup.find_all('span', class_=\"ingredient-name show-icon\")\n",
    "    ingredient = []\n",
    "    for i in items:\n",
    "        ingredient.append(i.getText().strip())\n",
    "\n",
    "    #steps = []\n",
    "    \n",
    "    #Cooking_steps = soup.find_all('div', class_=\"recipe-step-list__container\")\n",
    "    #for i in Cooking_steps:\n",
    "        #steps.append(i.getText().strip())\n",
    "        \n",
    "    recipe ={\n",
    "        'title' : title,\n",
    "        'ingredient': ingredient \n",
    "    }\n",
    "    \n",
    "    recipes.append(recipe)\n",
    "  \n",
    "    #for i in steps:\n",
    "        #i.replace('\\n','')\n",
    "        \n"
   ]
  },
  {
   "cell_type": "code",
   "execution_count": 4,
   "id": "a966e7fc",
   "metadata": {},
   "outputs": [],
   "source": [
    "a = json.dumps(recipes, indent = 4)\n",
    "l = json.loads(a)\n",
    "\n",
    "#print(l)"
   ]
  },
  {
   "cell_type": "code",
   "execution_count": 5,
   "id": "d3ad4f9e",
   "metadata": {},
   "outputs": [
    {
     "data": {
      "text/plain": [
       "<pymongo.results.InsertManyResult at 0x7f5036b87280>"
      ]
     },
     "execution_count": 5,
     "metadata": {},
     "output_type": "execute_result"
    }
   ],
   "source": [
    "from pymongo import MongoClient\n",
    "\n",
    "myclient = MongoClient('mongod',27017)\n",
    "db = myclient[\"projet\"]\n",
    "collection=db[\"Nosql\"]\n",
    "collection.insert_many(l)"
   ]
  },
  {
   "cell_type": "code",
   "execution_count": 56,
   "id": "1da099bb",
   "metadata": {},
   "outputs": [
    {
     "name": "stdout",
     "output_type": "stream",
     "text": [
      "{'_id': ObjectId('6088673e45e6d16413ac5e9f'), 'title': 'Quiche lorraine', 'ingredient': ['poivre', 'sel', 'muscade', 'lait', 'lardons', 'pâte brisée', 'beurre', 'oeuf', 'crème fraîche']}\n",
      "{'_id': ObjectId('6088673e45e6d16413ac5ea0'), 'title': 'Tomates farcies au Thermomix', 'ingredient': ['sel', \"huile d'olive\", 'lait', 'pain de mie', 'ail', 'tomate', 'chair à saucisse', 'oignon', 'échalote', 'herbes', 'riz blanc']}\n",
      "{'_id': ObjectId('6088673e45e6d16413ac5ea1'), 'title': 'La vraie Tartiflette', 'ingredient': ['poivre', 'sel', 'ail', 'huile', 'lardons fumés', 'pomme de terre', 'oignon', 'reblochon']}\n",
      "{'_id': ObjectId('6088673e45e6d16413ac5ea2'), 'title': 'Blanquette de veau facile', 'ingredient': ['poivre', 'sel', 'vin blanc', 'farine', 'citron', 'champignon', 'carotte', 'bouillon de poule', 'cube de bouillon', 'blanquette de veau', 'oignon jaune', 'crème fraîche', \"jaune d'oeuf\"]}\n",
      "{'_id': ObjectId('6088673e45e6d16413ac5ea3'), 'title': 'Gratin Dauphinois', 'ingredient': ['poivre', 'sel', 'muscade', 'lait', 'ail', 'pomme de terre', 'crème', 'beurre']}\n",
      "{'_id': ObjectId('6088673e45e6d16413ac5ea4'), 'title': 'Lasagnes à la bolognaise', 'ingredient': ['poivre', 'sel', 'parmesan', 'muscade', 'basilic', 'thym', 'vin rouge', 'eau', 'purée de tomate', 'carotte', 'céleri', 'ail', 'lasagnes', 'oignon jaune', 'boeuf haché', 'feuille de laurier', 'fromage râpé', 'lait', 'farine', 'beurre doux', 'beurre doux']}\n",
      "{'_id': ObjectId('6088673e45e6d16413ac5ea5'), 'title': 'Boeuf bourguignon', 'ingredient': ['poivre', 'sel', 'vin rouge', 'bouquet garni', 'carotte', 'bourguignon', 'oignon', 'beurre']}\n",
      "{'_id': ObjectId('6088673e45e6d16413ac5ea6'), 'title': 'Couscous', 'ingredient': ['harissa', 'sauce tomate', 'ail', 'courgette', 'pois chiches', 'carotte', 'huile', 'poivre', 'sel', 'semoule', 'beurre', 'navet', 'viande', 'oignon']}\n",
      "{'_id': ObjectId('6088673e45e6d16413ac5ea7'), 'title': 'Ratatouille', 'ingredient': ['sel', 'poivre', 'thym', \"huile d'olive\", 'ail', 'tomate', 'poivron', 'courgette', 'aubergine', 'oignon', 'feuille de laurier']}\n",
      "{'_id': ObjectId('6088673e45e6d16413ac5ea8'), 'title': 'Pâte à pizza fine', 'ingredient': ['sucre', 'eau', 'sel', 'levure', 'farine']}\n",
      "{'_id': ObjectId('6088673e45e6d16413ac5ea9'), 'title': 'Pot-au-feu', 'ingredient': ['poivre', 'gros sel', 'clou de girofle', 'bouquet garni', 'ail', 'céleri', 'carotte', 'poireau', 'viande', 'boeuf', 'boeuf', 'os à moelle', 'oignon']}\n",
      "{'_id': ObjectId('6088673e45e6d16413ac5eaa'), 'title': 'Chili con carne', 'ingredient': ['sel', 'piment de Cayenne', \"piment d'Espelette\", 'tabasco', 'origan', 'cumin', 'olives', 'cube de bouillon', 'haricots rouges', 'tomate', 'poivron', 'ail', 'oignon', 'boeuf haché']}\n",
      "{'_id': ObjectId('6088673e45e6d16413ac5eab'), 'title': 'Hachis Parmentier', 'ingredient': ['poivre', 'sel', 'parmesan', 'herbes de Provence', 'farine', 'tomate', 'ail', 'purée', 'viande hachée', 'oignon', \"jaune d'oeuf\", 'beurre', 'fromage râpé']}\n",
      "{'_id': ObjectId('6088673e45e6d16413ac5eac'), 'title': 'Vraie paëlla espagnole', 'ingredient': ['poivre', 'sel', 'chorizo', 'poivron', 'tomate', 'ail', \"huile d'olive\", 'riz long', 'poulet', 'côte de porc', 'moules', 'calamar', 'langoustine', 'oignon', 'petits pois', 'épices à paella']}\n",
      "{'_id': ObjectId('6088673e45e6d16413ac5ead'), 'title': 'Poulet rôti et ses pommes de terre', 'ingredient': ['pomme de terre', 'poivre', 'sel', 'herbes de Provence', 'poulet', 'beurre']}\n",
      "{'_id': ObjectId('6088673e45e6d16413ac5eae'), 'title': 'La Vraie Moussaka Grecque', 'ingredient': ['sel', 'poivre', 'muscade', 'miel', 'cannelle', \"huile d'olive\", 'tomate', 'pomme de terre', 'aubergine', 'boeuf haché', 'oignon', 'beurre', 'lait', 'farine', 'beurre']}\n",
      "{'_id': ObjectId('6088673e45e6d16413ac5eaf'), 'title': 'Poulet basquaise', 'ingredient': ['poivre', 'sel', \"huile d'olive\", 'bouquet garni', 'vin blanc', 'ail', 'poivron', 'tomate', 'poulet', 'oignon']}\n",
      "{'_id': ObjectId('6088673e45e6d16413ac5eb0'), 'title': 'Osso bucco de veau', 'ingredient': ['sel', 'poivre', 'farine', 'bouquet garni', 'vin blanc sec', 'carotte', 'tomates concassées', 'ail', 'huile', 'jarret de veau', 'oignon']}\n",
      "{'_id': ObjectId('6088673e45e6d16413ac5eb1'), 'title': 'Magrets de canard au miel', 'ingredient': ['sel', 'vinaigre balsamique', 'miel', 'Magret de Canard']}\n",
      "{'_id': ObjectId('6088673e45e6d16413ac5eb2'), 'title': 'Pomme de terre au four', 'ingredient': ['pomme de terre']}\n",
      "{'_id': ObjectId('6088673e45e6d16413ac5eb3'), 'title': 'Fondue Savoyarde', 'ingredient': ['poivre', 'ail', 'liqueur', 'maïzena', 'muscade', 'vin blanc sec', 'comté', 'beaufort', 'emmental', 'oeuf']}\n",
      "{'_id': ObjectId('6088673e45e6d16413ac5eb4'), 'title': 'Tomates farcies facile', 'ingredient': ['sel', 'poivre', 'persil', 'thym', 'ail', 'tomate', 'chair à saucisse', 'oignon', 'beurre']}\n",
      "{'_id': ObjectId('6088673e45e6d16413ac5eb5'), 'title': 'Pâtes à la \"carbonara\" à la française', 'ingredient': ['lardons', 'poivre', 'sel', 'pâtes', 'crème fraîche', \"jaune d'oeuf\", 'oignon']}\n",
      "{'_id': ObjectId('6088673e45e6d16413ac5eb6'), 'title': 'Tarte aux poireaux', 'ingredient': ['sel', 'poivre', 'muscade', 'poireau', 'pâte brisée', 'crème fraîche', 'oeuf']}\n",
      "{'_id': ObjectId('6088673e45e6d16413ac5eb7'), 'title': 'Courgette farcie', 'ingredient': ['poivre', 'sel', 'cube de bouillon', 'sucre', 'herbes de Provence', \"huile d'olive\", 'ail', 'courgette', 'oignon', 'boeuf haché', 'tomates pelées', 'gruyère râpé']}\n",
      "{'_id': ObjectId('6088673e45e6d16413ac5eb8'), 'title': 'Rougail saucisse', 'ingredient': [\"huile d'olive\", 'piment', 'curcuma', 'sel', 'poivre', 'thym', 'ail', 'tomate', 'saucisse', 'oignon', 'laurier']}\n",
      "{'_id': ObjectId('6088673e45e6d16413ac5eb9'), 'title': 'Rôti de porc à la moutarde et au miel', 'ingredient': ['bouillon de volaille', 'sel', 'poivre', 'ail', 'miel', 'moutarde de Dijon', 'rôti de porc', 'oignon']}\n",
      "{'_id': ObjectId('6088673e45e6d16413ac5eba'), 'title': 'Croque-monsieur', 'ingredient': ['sel', 'poivre', 'muscade', 'lait', 'jambon', 'pain de mie', 'beurre tendre', 'toastinette', 'gruyère râpé']}\n",
      "{'_id': ObjectId('6088673e45e6d16413ac5ebb'), 'title': 'Rôti de boeuf au four tout simple', 'ingredient': ['thym', 'sel', 'poivre', 'eau', \"huile d'olive\", 'ail', 'rôti de boeuf']}\n",
      "{'_id': ObjectId('6088673e45e6d16413ac5ebc'), 'title': 'Rôti de porc tout simple', 'ingredient': ['eau', 'ail', \"huile d'olive\", 'sel', 'poivre', 'rôti de porc', 'beurre']}\n",
      "{'_id': ObjectId('6088673e45e6d16413ac5ebd'), 'title': 'Quiche sans pâte', 'ingredient': ['sel', 'poivre', 'jambon', 'farine', 'lait', 'oeuf', 'crème fraîche', 'gruyère râpé']}\n",
      "{'_id': ObjectId('6088673e45e6d16413ac5ebe'), 'title': 'Gratin de pâtes moelleux, facile et pas cher', 'ingredient': ['sel', 'poivre', 'tomate', 'champignon de Paris', 'lardons', 'coquillettes', 'crème fraîche', 'gruyère râpé']}\n",
      "{'_id': ObjectId('6088673e45e6d16413ac5ebf'), 'title': 'hamburger maison', 'ingredient': ['ketchup', 'moutarde', 'tomate', 'pain pour hamburger', 'viande hachée', 'oignon', 'cheddar', 'salade']}\n",
      "{'_id': ObjectId('6088673e45e6d16413ac5ec0'), 'title': \"Mont d'Or au four\", 'ingredient': ['vin blanc', \"mont d'or\"]}\n",
      "{'_id': ObjectId('6088673e45e6d16413ac5ec1'), 'title': 'Moules marinières', 'ingredient': ['poivre', 'sel', 'persil', 'farine', 'vin blanc sec', 'moules', 'beurre', 'échalote']}\n",
      "{'_id': ObjectId('6088673e45e6d16413ac5ec2'), 'title': 'Soupe au chou vert', 'ingredient': ['cube de bouillon', 'thym', 'sel', 'poivre', 'saucisse', 'pomme de terre', 'carotte', 'chou', 'navet', 'laurier']}\n",
      "{'_id': ObjectId('6088673e45e6d16413ac5ec3'), 'title': 'Tagliatelles au saumon frais', 'ingredient': ['parmesan râpé', 'muscade', 'sel', 'poivre', 'tagliatelles fraîches', 'saumon frais', 'crème fraîche', 'beurre']}\n",
      "{'_id': ObjectId('6088673e45e6d16413ac5ec4'), 'title': 'Raclette', 'ingredient': ['pomme de terre', 'fromage à raclette', 'piment', 'paprika', 'poivre', 'cornichons', 'oignon au vinaigre', 'maïs', 'charcuterie']}\n",
      "{'_id': ObjectId('6088673e45e6d16413ac5ec5'), 'title': 'Pâte à pizza au Thermomix', 'ingredient': [\"huile d'olive\", 'eau', 'sel', 'levure de boulanger fraîche', 'farine']}\n",
      "{'_id': ObjectId('6088673e45e6d16413ac5ec6'), 'title': 'Rôti de veau en cocotte aux champignons', 'ingredient': ['champignon de Paris', 'basilic', 'herbes de Provence', 'vin blanc', 'fond de veau', 'sel', 'poivre', 'rôti de veau', 'beurre', 'oignon']}\n",
      "{'_id': ObjectId('6088673e45e6d16413ac5ec7'), 'title': 'Paupiettes au whisky', 'ingredient': ['whisky', 'ail', 'champignon', 'lardons fumés', 'paupiette', 'oignon', 'échalote']}\n",
      "{'_id': ObjectId('6088673e45e6d16413ac5ec8'), 'title': \"Frichti d'endives\", 'ingredient': ['sel', 'poivre', 'lardons', 'endive', 'oeuf', 'emmental']}\n",
      "{'_id': ObjectId('6088673e45e6d16413ac5ec9'), 'title': \"Lotte à l'Armoricaine\", 'ingredient': ['poivre', 'sel', 'piment de Cayenne', \"huile d'arachide\", 'cognac', 'vin blanc sec', 'ail', 'concentré de tomates', 'queue', 'tomates pelées', 'échalote', 'oignon', 'beurre']}\n",
      "{'_id': ObjectId('6088673e45e6d16413ac5eca'), 'title': 'La pâte à galettes de blé noir traditionnelle', 'ingredient': ['eau', 'gros sel', 'farine de blé noir', 'oeuf']}\n",
      "{'_id': ObjectId('6088673e45e6d16413ac5ecb'), 'title': 'Cuisses de poulet au four', 'ingredient': [\"huile d'olive\", 'clou de girofle', 'bouillon de volaille', 'thym', 'ail', 'eau', 'cuisse de poulet', 'oignon', 'feuille de laurier', 'genièvre']}\n",
      "{'_id': ObjectId('6088673e45e6d16413ac5ecc'), 'title': 'Dos de cabillaud tout simple', 'ingredient': ['sel', 'poivre', \"huile d'olive\", 'lieu noir']}\n",
      "{'_id': ObjectId('6088673e45e6d16413ac5ecd'), 'title': \"Choucroute à l'alsacienne\", 'ingredient': ['pomme de terre', 'ail', 'lard fumé', 'choucroute', 'palette', 'saindoux', 'feuille de laurier', 'genièvre', 'oignon', 'riesling', 'saucisse de Strasbourg']}\n",
      "{'_id': ObjectId('6088673e45e6d16413ac5ece'), 'title': 'Poulet au four', 'ingredient': ['poivre', 'sel', 'bouillon de volaille', 'jus de citron', 'ail', 'tomates cerise', 'poulet', 'oignon', 'feuille de laurier']}\n",
      "{'_id': ObjectId('6088673e45e6d16413ac5ecf'), 'title': 'Bo Bun (Vietnam)', 'ingredient': ['nem', 'vermicelles de riz', 'sel', 'poivre', 'glutamate', \"sauce d'huître\", 'ail', 'curry', 'boeuf', 'soja', 'nuoc mam', 'vinaigre', 'sucre', 'eau', 'coriandre', 'batavia', 'soja', 'menthe', 'arachide']}\n",
      "{'_id': ObjectId('6088673e45e6d16413ac5ed0'), 'title': 'Pâtes carbonara presque comme des vraies', 'ingredient': ['sel', 'poivre', 'parmesan', 'lardons', 'spaghetti', 'oeuf']}\n",
      "{'_id': ObjectId('6088673e45e6d16413ac5ed1'), 'title': 'Tajine de poulet', 'ingredient': ['eau', \"huile d'olive\", 'cumin', 'tomate', 'carotte', 'pomme de terre', 'courgette', 'cuisse de poulet', 'oignon', 'épices pour tajine']}\n",
      "{'_id': ObjectId('6088673e45e6d16413ac5ed2'), 'title': 'Riz cantonais facile', 'ingredient': ['jambon', 'huile', 'riz', 'oignon', 'oeuf', 'crevettes', 'petits pois']}\n",
      "{'_id': ObjectId('6088673e45e6d16413ac5ed3'), 'title': 'Paupiettes de veau', 'ingredient': ['vinaigre balsamique', 'moutarde de Dijon', 'eau', 'vin blanc', 'fond de veau', \"huile d'olive\", 'ail', 'paupiette de veau']}\n",
      "{'_id': ObjectId('6088673e45e6d16413ac5ed4'), 'title': 'Poulet au riz pour robot Cookeo', 'ingredient': [\"huile d'olive\", 'poivre', 'sel', 'carotte', 'fond de veau', 'riz', 'filet de poulet', 'poivron rouge']}\n",
      "{'_id': ObjectId('6088673e45e6d16413ac5ed5'), 'title': 'Langue de boeuf sauce piquante aux cornichons', 'ingredient': ['farine', 'poivre', 'sel', 'thym', 'bouillon', \"vinaigre d'alcool\", 'langue', 'oignon', 'feuille de laurier', 'beurre', 'oignon', 'cornichons', 'patrelle']}\n",
      "{'_id': ObjectId('6088673e45e6d16413ac5ed6'), 'title': \"Rôti de boeuf à l'oignon caramélisé\", 'ingredient': ['poivre', 'basilic', 'romarin', 'thym', 'lait', 'sucre', 'ail', 'rôti de boeuf', 'oignon', 'beurre', 'huile de noix']}\n",
      "{'_id': ObjectId('6088673e45e6d16413ac5ed7'), 'title': 'Choux de Bruxelles au lard en cocotte', 'ingredient': ['sel', 'poivre', 'muscade', 'lard fumé', 'chou de bruxelles', 'échalote', 'beurre']}\n",
      "{'_id': ObjectId('6088673e45e6d16413ac5ed8'), 'title': \"Souris d'agneau au miel et thym\", 'ingredient': ['sel', 'poivre', 'miel', \"huile d'olive\", 'thym', 'ail', \"souris d'agneau\"]}\n",
      "{'_id': ObjectId('6088673e45e6d16413ac5ed9'), 'title': 'Boeuf carottes facile', 'ingredient': ['cube de bouillon', 'vin blanc', 'concentré de tomates', 'ail semoule', 'sel', 'poivre', 'carotte', 'joue', 'paleron', 'oignon', 'beurre']}\n",
      "{'_id': ObjectId('6088673e45e6d16413ac5eda'), 'title': \"Rosbeef au four à l'ail\", 'ingredient': ['sel', 'poivre', 'ail', 'Rosbif', 'beurre tendre']}\n",
      "{'_id': ObjectId('6088673e45e6d16413ac5edb'), 'title': 'Carbonades flamandes traditionnelles', 'ingredient': ['moutarde', 'sel', \"pain d'épices\", 'lard fumé', 'bouquet garni', 'cassonade', 'boeuf', 'bière brune', 'oignon', 'beurre']}\n",
      "{'_id': ObjectId('6088673e45e6d16413ac5edc'), 'title': 'Endives au jambon', 'ingredient': ['sel', 'poivre', 'lait', 'farine', 'jambon', 'endive', 'beurre', 'crème', 'gruyère râpé']}\n",
      "{'_id': ObjectId('6088673e45e6d16413ac5edd'), 'title': 'La tourte aux champignons, si simple et si bon!', 'ingredient': ['sel', 'poivre', 'huile', 'champignon de Paris', 'pâte feuilletée', 'emmental', 'crème fraîche', \"jaune d'oeuf\"]}\n",
      "{'_id': ObjectId('6088673e45e6d16413ac5ede'), 'title': 'Flammekueche alsacienne', 'ingredient': ['sel', 'eau', 'huile', 'farine', 'vin blanc', 'lardons fumés', 'oignon', 'crème épaisse', 'fromage blanc']}\n",
      "{'_id': ObjectId('6088673e45e6d16413ac5edf'), 'title': 'Cannelloni de viande', 'ingredient': ['sauce tomate', 'sel', 'poivre', 'ail', \"huile d'olive\", 'oignon', 'oeuf', 'canneloni', 'viande hachée', 'chair à saucisse', 'mozzarella']}\n",
      "{'_id': ObjectId('6088673e45e6d16413ac5ee0'), 'title': 'Magret de canard au four', 'ingredient': ['gros sel', 'Magret de Canard', 'poivre en grains']}\n",
      "{'_id': ObjectId('6088673e45e6d16413ac5ee1'), 'title': 'Lasagnes au saumon et aux épinards', 'ingredient': ['sel', 'poivre', 'parmesan', 'lasagnes', 'saumon fumé', 'épinards', 'crème fraîche liquide']}\n",
      "{'_id': ObjectId('6088673e45e6d16413ac5ee2'), 'title': 'Artichaut farci', 'ingredient': ['poivre', 'sel', 'herbes de Provence', \"huile d'olive\", 'pignons', 'citron', 'ail', 'artichaut', 'viande hachée', 'fromage blanc', 'oeuf', 'olives noires', 'oignon']}\n",
      "{'_id': ObjectId('6088673e45e6d16413ac5ee3'), 'title': 'Steak tartare', 'ingredient': ['persil', \"huile d'olive\", 'sel', 'poivre', 'tabasco', 'ketchup', 'sauce worcestershire', 'câpres', 'moutarde de Dijon', 'boeuf', \"jaune d'oeuf\", 'oignon']}\n",
      "{'_id': ObjectId('6088673e45e6d16413ac5ee4'), 'title': 'Tarte à la tomate et à la moutarde', 'ingredient': [\"huile d'olive\", 'moutarde de Dijon', 'herbes de Provence', 'tomate', 'pâte brisée']}\n",
      "{'_id': ObjectId('6088673e45e6d16413ac5ee5'), 'title': 'Risotto aux champignons', 'ingredient': ['poivre', 'sel', 'persil', 'ail', 'parmesan', 'vin blanc sec', 'bouillon de légumes', \"huile d'olive\", 'riz', 'champignon', 'beurre', 'oignon', 'échalote']}\n",
      "{'_id': ObjectId('6088673e45e6d16413ac5ee6'), 'title': 'Coq au vin maison', 'ingredient': ['sel', 'poivre', 'farine', 'huile', 'cognac', 'fond de veau', 'poivre', 'bouquet garni', 'ail', 'carotte', 'champignon de Paris', 'lardons', 'vin rouge', 'coq', 'oignon']}\n",
      "{'_id': ObjectId('6088673e45e6d16413ac5ee7'), 'title': 'Ris de Veau aux champignons', 'ingredient': ['sel', 'poivre', 'fond de veau', 'champignon', \"huile d'olive\", 'bouillon de volaille', 'ris de veau', 'oignon', 'crème fraîche épaisse']}\n",
      "{'_id': ObjectId('6088673e45e6d16413ac5ee8'), 'title': 'Rôti de veau au four', 'ingredient': ['poivre', 'sel', 'huile de tournesol', 'champignon de Paris', 'ail', 'rôti de veau']}\n",
      "{'_id': ObjectId('6088673e45e6d16413ac5ee9'), 'title': 'Galettes de pomme de terre', 'ingredient': ['huile', 'sel', 'poivre', 'farine', 'pomme de terre', 'oignon', 'oeuf']}\n",
      "{'_id': ObjectId('6088673e45e6d16413ac5eea'), 'title': 'Noix de Saint Jacques', 'ingredient': ['sel', 'poivre', 'noix de saint-jacques', 'beurre salé']}\n",
      "{'_id': ObjectId('6088673e45e6d16413ac5eeb'), 'title': 'Lentilles et saucisses de Morteau à ma façon', 'ingredient': ['bouquet garni', \"huile d'olive\", 'épices', 'carotte', 'lentilles vertes', 'oignon', 'saucisse de morteau']}\n",
      "{'_id': ObjectId('6088673e45e6d16413ac5eec'), 'title': \"Filet mignon de porc rôti à la moutarde à l'ancienne\", 'ingredient': ['poivre', 'sel', 'thym', 'pomme de terre', \"huile d'olive\", 'filet mignon', \"moutarde à l'ancienne\", 'beurre', 'laurier']}\n",
      "{'_id': ObjectId('6088673e45e6d16413ac5eed'), 'title': 'Couscous poulet et merguez facile', 'ingredient': ['pois chiches', 'courgette', 'carotte', 'tomate', 'cube de bouillon', 'harissa', 'épices à couscous', 'concentré de tomates', \"huile d'olive\", 'merguez', 'pilon de poulet', 'navet']}\n",
      "{'_id': ObjectId('6088673e45e6d16413ac5eee'), 'title': 'Courge spaghetti à la crème et aux lardons', 'ingredient': ['parmesan', 'lardons', 'courge spaghetti', 'oignon', 'crème fraîche épaisse']}\n",
      "{'_id': ObjectId('6088673e45e6d16413ac5eef'), 'title': 'Lapin à la moutarde maison', 'ingredient': ['carotte', 'sucre', 'sel', 'poivre', 'persil', 'thym', 'ail', \"huile d'olive\", 'moutarde de Dijon', 'vin blanc sec', 'lapin', 'crème fraîche', 'échalote', 'feuille de laurier']}\n",
      "{'_id': ObjectId('6088673e45e6d16413ac5ef0'), 'title': 'Lentilles corail au curry', 'ingredient': ['coriandre', 'sel', 'poivre', 'curry', 'piment', 'huile', 'ail', 'tomate', 'lentilles corail', 'oignon', 'Riz, céréales']}\n",
      "{'_id': ObjectId('6088673e45e6d16413ac5ef1'), 'title': \"Aligot à l'ancienne\", 'ingredient': ['sel', 'poivre', 'ail', 'pomme de terre', 'tomme', 'beurre', 'crème fraîche']}\n",
      "{'_id': ObjectId('6088673e45e6d16413ac5ef2'), 'title': 'Sushi californien (maki inversé)', 'ingredient': ['wasabi', 'sel', 'vinaigre de riz', 'sucre en poudre', 'sésame', 'feuille de nori', 'avocat', 'concombre', 'crabe', 'riz rond', 'sauce soja']}\n",
      "{'_id': ObjectId('6088673e45e6d16413ac5ef3'), 'title': \"Poule au pot à l'ancienne\", 'ingredient': ['thym', 'sel', 'poivre', 'poireau', 'carotte', 'poule', 'navet', 'oignon']}\n",
      "{'_id': ObjectId('6088673e45e6d16413ac5ef4'), 'title': 'Salade de pommes de terre et cornichons', 'ingredient': ['sel', 'poivre', 'vinaigre de vin', \"huile d'olive\", 'pomme de terre', 'oignon', 'échalote', 'cornichons', \"moutarde à l'ancienne\"]}\n",
      "{'_id': ObjectId('6088673e45e6d16413ac5ef5'), 'title': 'Croque-monsieur au chou-fleur', 'ingredient': ['poivre', 'sel', 'persil', 'parmesan râpé', 'chou-fleur', 'oeuf', 'jambon', 'comté', 'beurre']}\n",
      "{'_id': ObjectId('6088673e45e6d16413ac5ef6'), 'title': 'Cuisses de poulet faciles et qui changent', 'ingredient': ['sel', 'basilic', 'curcuma', 'curry', 'jus de citron', 'eau', 'cube de bouillon', 'concentré de tomates', 'cuisse de poulet']}\n",
      "{'_id': ObjectId('6088673e45e6d16413ac5ef7'), 'title': 'Joues de porc mijotées, sauce à la crème et à la moutarde de Dijon', 'ingredient': ['sel', 'poivre', \"huile d'olive\", 'moutarde de Dijon', 'cube de bouillon', 'eau', 'vin blanc', 'joue de porc', 'échalote', 'crème fraîche allégée', 'ciboulette']}\n",
      "{'_id': ObjectId('6088673e45e6d16413ac5ef8'), 'title': 'Porc caramel', 'ingredient': ['eau', 'sucre', 'gingembre', 'cube de bouillon', 'filet mignon', 'eau', 'mélange 4 épices', 'sauce soja', 'oignon jaune']}\n"
     ]
    }
   ],
   "source": [
    "cur = collection.find({})\n",
    "\n",
    "for res in cur:\n",
    "    print(res)\n"
   ]
  },
  {
   "cell_type": "code",
   "execution_count": 64,
   "id": "7de561f1",
   "metadata": {},
   "outputs": [
    {
     "name": "stdout",
     "output_type": "stream",
     "text": [
      "[]\n"
     ]
    }
   ],
   "source": [
    "def searcheAllergie(db, a):\n",
    "    liste = []\n",
    "    for res in db:\n",
    "        for j in res.find(\"ingredient\"):\n",
    "            if(j.find() != a ):\n",
    "                liste.append(res.find('title'))\n",
    "        \n",
    "    return liste\n",
    "u = 'poivre'    \n",
    "test = searcheAllergie(cur, u)\n",
    "\n",
    "print(test)"
   ]
  },
  {
   "cell_type": "code",
   "execution_count": null,
   "id": "36abf1d6",
   "metadata": {},
   "outputs": [],
   "source": []
  },
  {
   "cell_type": "code",
   "execution_count": null,
   "id": "08dee4ae",
   "metadata": {},
   "outputs": [],
   "source": []
  }
 ],
 "metadata": {
  "kernelspec": {
   "display_name": "Python 3",
   "language": "python",
   "name": "python3"
  },
  "language_info": {
   "codemirror_mode": {
    "name": "ipython",
    "version": 3
   },
   "file_extension": ".py",
   "mimetype": "text/x-python",
   "name": "python",
   "nbconvert_exporter": "python",
   "pygments_lexer": "ipython3",
   "version": "3.8.9"
  }
 },
 "nbformat": 4,
 "nbformat_minor": 5
}
